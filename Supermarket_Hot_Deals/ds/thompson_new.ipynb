{
 "cells": [
  {
   "cell_type": "code",
   "execution_count": 16,
   "id": "8793f34f-a123-4a73-9357-01947a57b703",
   "metadata": {},
   "outputs": [
    {
     "name": "stdout",
     "output_type": "stream",
     "text": [
      "Created project_id: 5\n",
      "\n",
      "Recommended products on page 1:\n",
      "Product 1 (alpha=1.0, beta=1.0)\n",
      "Product 3 (alpha=1.0, beta=1.0)\n",
      "Product 5 (alpha=1.0, beta=1.0)\n",
      "\n",
      "Recommended products on page 2:\n",
      "Product 3 (alpha=1.0, beta=1.0)\n",
      "Product 5 (alpha=1.0, beta=1.0)\n",
      "Product 6 (alpha=1.0, beta=1.0)\n"
     ]
    }
   ],
   "source": [
    "PROJECT_NAME = \"Supermarket Hot Deals Thompson Experiment\"\n",
    "NUM_PRODUCTS = 6   \n",
    "PRODUCTS_PER_PAGE = 3\n",
    "\n",
    "with Session(engine) as session:\n",
    "    project = Project(\n",
    "        project_name=PROJECT_NAME,\n",
    "        project_description=\"Auto-created test for modeling\",\n",
    "        number_of_bandits=NUM_PRODUCTS\n",
    "    )\n",
    "    session.add(project)\n",
    "    session.commit()\n",
    "    print(f\"Created project_id: {project.project_id}\")\n",
    "\n",
    "    project_id = project.project_id \n",
    "\n",
    "    for i in range(NUM_PRODUCTS):\n",
    "        bandit = Bandit(\n",
    "            project_id=project_id,\n",
    "            bandit_name=f\"Product {i+1}\",\n",
    "            alpha=1,\n",
    "            beta=1,\n",
    "            n=0,\n",
    "            number_of_success=0,\n",
    "            number_of_failures=0\n",
    "        )\n",
    "        session.add(bandit)\n",
    "    session.commit()\n",
    "\n",
    "def get_page_recommendations(project_id, page_num=0):\n",
    "    with Session(engine) as session:\n",
    "        bandits = session.query(Bandit).filter(Bandit.project_id == project_id).all()\n",
    "        samples = [np.random.beta(b.alpha, b.beta) for b in bandits]\n",
    "        sorted_bandits = [b for _, b in sorted(zip(samples, bandits), key=lambda pair: pair[0], reverse=True)]\n",
    "        start = page_num * PRODUCTS_PER_PAGE\n",
    "        end = start + PRODUCTS_PER_PAGE\n",
    "        return sorted_bandits[start:end]\n",
    "\n",
    "for p in range(2):\n",
    "    print(f\"\\nRecommended products on page {p+1}:\")\n",
    "    recs = get_page_recommendations(project_id=project_id, page_num=p)\n",
    "    for b in recs:\n",
    "        print(f\"{b.bandit_name} (alpha={b.alpha}, beta={b.beta})\")\n",
    "\n",
    "def simulate_click(bandit: Bandit, clicked: bool):\n",
    "    with Session(engine) as session:\n",
    "        db_bandit = session.query(Bandit).filter(Bandit.bandit_id == bandit.bandit_id).first()\n",
    "        if clicked:\n",
    "            db_bandit.alpha += 1\n",
    "            db_bandit.number_of_success += 1\n",
    "        else:\n",
    "            db_bandit.beta += 1\n",
    "            db_bandit.number_of_failures += 1\n",
    "        db_bandit.n += 1\n",
    "        session.commit()\n",
    "\n",
    "simulate_click(recs[0], clicked=True)\n",
    "simulate_click(recs[1], clicked=False)"
   ]
  }
 ],
 "metadata": {
  "kernelspec": {
   "display_name": "Python 3 (ipykernel)",
   "language": "python",
   "name": "python3"
  },
  "language_info": {
   "codemirror_mode": {
    "name": "ipython",
    "version": 3
   },
   "file_extension": ".py",
   "mimetype": "text/x-python",
   "name": "python",
   "nbconvert_exporter": "python",
   "pygments_lexer": "ipython3",
   "version": "3.10.17"
  }
 },
 "nbformat": 4,
 "nbformat_minor": 5
}
