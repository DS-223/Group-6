{
 "cells": [
  {
   "cell_type": "code",
   "execution_count": 2,
   "id": "04866133-7886-4883-926d-924c85a0f10c",
   "metadata": {
    "scrolled": true
   },
   "outputs": [
    {
     "name": "stdout",
     "output_type": "stream",
     "text": [
      "Collecting sqlalchemy\n",
      "  Downloading sqlalchemy-2.0.40-cp310-cp310-manylinux_2_17_aarch64.manylinux2014_aarch64.whl (3.1 MB)\n",
      "\u001b[2K     \u001b[90m━━━━━━━━━━━━━━━━━━━━━━━━━━━━━━━━━━━━━━━━\u001b[0m \u001b[32m3.1/3.1 MB\u001b[0m \u001b[31m716.9 kB/s\u001b[0m eta \u001b[36m0:00:00\u001b[0m00:01\u001b[0m00:01\u001b[0m\n",
      "\u001b[?25hRequirement already satisfied: typing-extensions>=4.6.0 in /usr/local/lib/python3.10/site-packages (from sqlalchemy) (4.13.2)\n",
      "Collecting greenlet>=1\n",
      "  Downloading greenlet-3.2.2-cp310-cp310-manylinux_2_17_aarch64.manylinux2014_aarch64.whl (625 kB)\n",
      "\u001b[2K     \u001b[90m━━━━━━━━━━━━━━━━━━━━━━━━━━━━━━━━━━━━━━━\u001b[0m \u001b[32m625.7/625.7 kB\u001b[0m \u001b[31m8.0 MB/s\u001b[0m eta \u001b[36m0:00:00\u001b[0ma \u001b[36m0:00:01\u001b[0m\n",
      "\u001b[?25hInstalling collected packages: greenlet, sqlalchemy\n",
      "Successfully installed greenlet-3.2.2 sqlalchemy-2.0.40\n",
      "\u001b[33mWARNING: Running pip as the 'root' user can result in broken permissions and conflicting behaviour with the system package manager. It is recommended to use a virtual environment instead: https://pip.pypa.io/warnings/venv\u001b[0m\u001b[33m\n",
      "\u001b[0m\n",
      "\u001b[1m[\u001b[0m\u001b[34;49mnotice\u001b[0m\u001b[1;39;49m]\u001b[0m\u001b[39;49m A new release of pip is available: \u001b[0m\u001b[31;49m23.0.1\u001b[0m\u001b[39;49m -> \u001b[0m\u001b[32;49m25.1.1\u001b[0m\n",
      "\u001b[1m[\u001b[0m\u001b[34;49mnotice\u001b[0m\u001b[1;39;49m]\u001b[0m\u001b[39;49m To update, run: \u001b[0m\u001b[32;49mpip install --upgrade pip\u001b[0m\n",
      "Note: you may need to restart the kernel to use updated packages.\n"
     ]
    }
   ],
   "source": [
    "pip install sqlalchemy"
   ]
  },
  {
   "cell_type": "code",
   "execution_count": 7,
   "id": "76198693-2306-477f-9fcb-da6f2fd5931f",
   "metadata": {},
   "outputs": [
    {
     "name": "stdout",
     "output_type": "stream",
     "text": [
      "Collecting python-dotenv\n",
      "  Downloading python_dotenv-1.1.0-py3-none-any.whl (20 kB)\n",
      "Installing collected packages: python-dotenv\n",
      "Successfully installed python-dotenv-1.1.0\n",
      "\u001b[33mWARNING: Running pip as the 'root' user can result in broken permissions and conflicting behaviour with the system package manager. It is recommended to use a virtual environment instead: https://pip.pypa.io/warnings/venv\u001b[0m\u001b[33m\n",
      "\u001b[0m\n",
      "\u001b[1m[\u001b[0m\u001b[34;49mnotice\u001b[0m\u001b[1;39;49m]\u001b[0m\u001b[39;49m A new release of pip is available: \u001b[0m\u001b[31;49m23.0.1\u001b[0m\u001b[39;49m -> \u001b[0m\u001b[32;49m25.1.1\u001b[0m\n",
      "\u001b[1m[\u001b[0m\u001b[34;49mnotice\u001b[0m\u001b[1;39;49m]\u001b[0m\u001b[39;49m To update, run: \u001b[0m\u001b[32;49mpip install --upgrade pip\u001b[0m\n"
     ]
    }
   ],
   "source": [
    "!pip install python-dotenv"
   ]
  },
  {
   "cell_type": "code",
   "execution_count": 9,
   "id": "f60969a7-f507-4b7d-893f-01bb2e1a4735",
   "metadata": {},
   "outputs": [
    {
     "name": "stdout",
     "output_type": "stream",
     "text": [
      "Collecting psycopg2-binary\n",
      "  Downloading psycopg2_binary-2.9.10-cp310-cp310-manylinux_2_17_aarch64.manylinux2014_aarch64.whl (2.9 MB)\n",
      "\u001b[2K     \u001b[90m━━━━━━━━━━━━━━━━━━━━━━━━━━━━━━━━━━━━━━━━\u001b[0m \u001b[32m2.9/2.9 MB\u001b[0m \u001b[31m610.0 kB/s\u001b[0m eta \u001b[36m0:00:00\u001b[0m00:01\u001b[0m00:01\u001b[0m\n",
      "\u001b[?25hInstalling collected packages: psycopg2-binary\n",
      "Successfully installed psycopg2-binary-2.9.10\n",
      "\u001b[33mWARNING: Running pip as the 'root' user can result in broken permissions and conflicting behaviour with the system package manager. It is recommended to use a virtual environment instead: https://pip.pypa.io/warnings/venv\u001b[0m\u001b[33m\n",
      "\u001b[0m\n",
      "\u001b[1m[\u001b[0m\u001b[34;49mnotice\u001b[0m\u001b[1;39;49m]\u001b[0m\u001b[39;49m A new release of pip is available: \u001b[0m\u001b[31;49m23.0.1\u001b[0m\u001b[39;49m -> \u001b[0m\u001b[32;49m25.1.1\u001b[0m\n",
      "\u001b[1m[\u001b[0m\u001b[34;49mnotice\u001b[0m\u001b[1;39;49m]\u001b[0m\u001b[39;49m To update, run: \u001b[0m\u001b[32;49mpip install --upgrade pip\u001b[0m\n"
     ]
    }
   ],
   "source": [
    "!pip install psycopg2-binary"
   ]
  },
  {
   "cell_type": "code",
   "execution_count": 16,
   "id": "8793f34f-a123-4a73-9357-01947a57b703",
   "metadata": {},
   "outputs": [
    {
     "name": "stdout",
     "output_type": "stream",
     "text": [
      "Created project_id: 5\n",
      "\n",
      "Recommended products on page 1:\n",
      "Product 1 (alpha=1.0, beta=1.0)\n",
      "Product 3 (alpha=1.0, beta=1.0)\n",
      "Product 5 (alpha=1.0, beta=1.0)\n",
      "\n",
      "Recommended products on page 2:\n",
      "Product 3 (alpha=1.0, beta=1.0)\n",
      "Product 5 (alpha=1.0, beta=1.0)\n",
      "Product 6 (alpha=1.0, beta=1.0)\n"
     ]
    }
   ],
   "source": [
    "PROJECT_NAME = \"Supermarket Hot Deals Thompson Experiment\"\n",
    "NUM_PRODUCTS = 6   \n",
    "PRODUCTS_PER_PAGE = 3\n",
    "\n",
    "with Session(engine) as session:\n",
    "    project = Project(\n",
    "        project_name=PROJECT_NAME,\n",
    "        project_description=\"Auto-created test for modeling\",\n",
    "        number_of_bandits=NUM_PRODUCTS\n",
    "    )\n",
    "    session.add(project)\n",
    "    session.commit()\n",
    "    print(f\"Created project_id: {project.project_id}\")\n",
    "\n",
    "    project_id = project.project_id \n",
    "\n",
    "    for i in range(NUM_PRODUCTS):\n",
    "        bandit = Bandit(\n",
    "            project_id=project_id,\n",
    "            bandit_name=f\"Product {i+1}\",\n",
    "            alpha=1,\n",
    "            beta=1,\n",
    "            n=0,\n",
    "            number_of_success=0,\n",
    "            number_of_failures=0\n",
    "        )\n",
    "        session.add(bandit)\n",
    "    session.commit()\n",
    "\n",
    "def get_page_recommendations(project_id, page_num=0):\n",
    "    with Session(engine) as session:\n",
    "        bandits = session.query(Bandit).filter(Bandit.project_id == project_id).all()\n",
    "        samples = [np.random.beta(b.alpha, b.beta) for b in bandits]\n",
    "        sorted_bandits = [b for _, b in sorted(zip(samples, bandits), key=lambda pair: pair[0], reverse=True)]\n",
    "        start = page_num * PRODUCTS_PER_PAGE\n",
    "        end = start + PRODUCTS_PER_PAGE\n",
    "        return sorted_bandits[start:end]\n",
    "\n",
    "for p in range(2):\n",
    "    print(f\"\\nRecommended products on page {p+1}:\")\n",
    "    recs = get_page_recommendations(project_id=project_id, page_num=p)\n",
    "    for b in recs:\n",
    "        print(f\"{b.bandit_name} (alpha={b.alpha}, beta={b.beta})\")\n",
    "\n",
    "def simulate_click(bandit: Bandit, clicked: bool):\n",
    "    with Session(engine) as session:\n",
    "        db_bandit = session.query(Bandit).filter(Bandit.bandit_id == bandit.bandit_id).first()\n",
    "        if clicked:\n",
    "            db_bandit.alpha += 1\n",
    "            db_bandit.number_of_success += 1\n",
    "        else:\n",
    "            db_bandit.beta += 1\n",
    "            db_bandit.number_of_failures += 1\n",
    "        db_bandit.n += 1\n",
    "        session.commit()\n",
    "\n",
    "simulate_click(recs[0], clicked=True)\n",
    "simulate_click(recs[1], clicked=False)"
   ]
  }
 ],
 "metadata": {
  "kernelspec": {
   "display_name": "Python 3 (ipykernel)",
   "language": "python",
   "name": "python3"
  },
  "language_info": {
   "codemirror_mode": {
    "name": "ipython",
    "version": 3
   },
   "file_extension": ".py",
   "mimetype": "text/x-python",
   "name": "python",
   "nbconvert_exporter": "python",
   "pygments_lexer": "ipython3",
   "version": "3.10.17"
  }
 },
 "nbformat": 4,
 "nbformat_minor": 5
}
