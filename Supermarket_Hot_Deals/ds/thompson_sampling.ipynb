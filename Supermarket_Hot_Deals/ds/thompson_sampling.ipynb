{
 "cells": [
  {
   "cell_type": "code",
   "execution_count": 6,
   "id": "89c6bffb-ae13-4d74-8b2f-e63c0de2a7f7",
   "metadata": {},
   "outputs": [],
   "source": [
    "import os\n",
    "import sys\n",
    "import random  \n",
    "import numpy as np\n",
    "import matplotlib.pyplot as plt\n",
    "from datetime import datetime, timezone\n",
    "\n",
    "from sqlalchemy.orm import Session\n",
    "from models import Project, Bandit\n",
    "from database import engine"
   ]
  },
  {
   "cell_type": "code",
   "execution_count": 3,
   "id": "f8765477-0762-45a1-a88f-4417dffbcd6e",
   "metadata": {},
   "outputs": [],
   "source": [
    "PROJECT_NAME = \"Supermarket Hot Deals Thompson Experiment\"\n",
    "NUM_PRODUCTS = 6   \n",
    "PRODUCTS_PER_PAGE = 3"
   ]
  },
  {
   "cell_type": "code",
   "execution_count": 5,
   "id": "54c9aaa5-eecd-49fc-9860-64c72fb68461",
   "metadata": {},
   "outputs": [
    {
     "name": "stdout",
     "output_type": "stream",
     "text": [
      "Using existing project with id: 1\n",
      "6 bandits already exist for this project.\n",
      "\n",
      "Recommended products on page 1:\n",
      "Product 4 (alpha=7.0, beta=4.0)\n",
      "Product 6 (alpha=5.0, beta=2.0)\n",
      "Product 2 (alpha=6.0, beta=6.0)\n",
      "\n",
      "Recommended products on page 2:\n",
      "Product 2 (alpha=6.0, beta=6.0)\n",
      "Product 3 (alpha=4.0, beta=4.0)\n",
      "Product 5 (alpha=1.0, beta=4.0)\n"
     ]
    }
   ],
   "source": [
    "RESET = False  # Set to True if you want to delete and recreate bandits\n",
    "\n",
    "with Session(engine) as session:\n",
    "\n",
    "    project = session.query(Project).filter(Project.project_name == PROJECT_NAME).first()\n",
    "    if not project:\n",
    "        project = Project(\n",
    "            project_name=PROJECT_NAME,\n",
    "            project_description=\"Auto-created test for modeling\",\n",
    "            number_of_bandits=NUM_PRODUCTS\n",
    "        )\n",
    "        session.add(project)\n",
    "        session.commit()\n",
    "        print(f\"Created new project with id: {project.project_id}\")\n",
    "    else:\n",
    "        print(f\"Using existing project with id: {project.project_id}\")\n",
    "\n",
    "    project_id = project.project_id\n",
    "\n",
    "    if RESET:\n",
    "        session.query(Bandit).filter(Bandit.project_id == project_id).delete()\n",
    "        session.commit()\n",
    "        print(\"Old bandits deleted.\")\n",
    "\n",
    "    existing = session.query(Bandit).filter(Bandit.project_id == project_id).count()\n",
    "    if existing == 0:\n",
    "        for i in range(NUM_PRODUCTS):\n",
    "            bandit = Bandit(\n",
    "                project_id=project_id,\n",
    "                bandit_name=f\"Product {i+1}\",\n",
    "                alpha=random.randint(1, 5),\n",
    "                beta=random.randint(1, 5),\n",
    "                n=0,\n",
    "                number_of_success=0,\n",
    "                number_of_failures=0\n",
    "            )\n",
    "            session.add(bandit)\n",
    "        session.commit()\n",
    "        print(f\"Added {NUM_PRODUCTS} bandits.\")\n",
    "    else:\n",
    "        print(f\"{existing} bandits already exist for this project.\")\n",
    "\n",
    "def get_page_recommendations(project_id, page_num=0):\n",
    "    with Session(engine) as session:\n",
    "        bandits = session.query(Bandit).filter(Bandit.project_id == project_id).all()\n",
    "        samples = [np.random.beta(b.alpha, b.beta) for b in bandits]\n",
    "        sorted_bandits = [b for _, b in sorted(zip(samples, bandits), key=lambda pair: pair[0], reverse=True)]\n",
    "        start = page_num * PRODUCTS_PER_PAGE\n",
    "        end = start + PRODUCTS_PER_PAGE\n",
    "        return sorted_bandits[start:end]\n",
    "\n",
    "for p in range(2):\n",
    "    print(f\"\\nRecommended products on page {p+1}:\")\n",
    "    recs = get_page_recommendations(project_id=project_id, page_num=p)\n",
    "    for b in recs:\n",
    "        print(f\"{b.bandit_name} (alpha={b.alpha}, beta={b.beta})\")\n",
    "\n",
    "def simulate_click(bandit: Bandit, clicked: bool):\n",
    "    with Session(engine) as session:\n",
    "        db_bandit = session.query(Bandit).filter(Bandit.bandit_id == bandit.bandit_id).first()\n",
    "        if clicked:\n",
    "            db_bandit.alpha += 1\n",
    "            db_bandit.number_of_success += 1\n",
    "        else:\n",
    "            db_bandit.beta += 1\n",
    "            db_bandit.number_of_failures += 1\n",
    "        db_bandit.n += 1\n",
    "        session.commit()\n",
    "\n",
    "simulate_click(recs[0], clicked=True)\n",
    "simulate_click(recs[1], clicked=False)"
   ]
  },
  {
   "cell_type": "raw",
   "id": "f3455f2d-194b-4336-8361-1360132bb6b2",
   "metadata": {},
   "source": [
    "Thompson Sampling algorithm to recommend supermarket products. It first looks for an existing project in the database; if none is found, it creates one. Then it checks for associated products (bandits). If none exist, it adds new ones with random alpha and beta values, which are used in the Beta distribution to calculate selection probabilities. The get_page_recommendations() function ranks products by sampling from their distributions and shows the top ones per page. Simulated clicks update each product’s success or failure, helping the model learn over time which products perform better."
   ]
  }
 ],
 "metadata": {
  "kernelspec": {
   "display_name": "Python 3 (ipykernel)",
   "language": "python",
   "name": "python3"
  },
  "language_info": {
   "codemirror_mode": {
    "name": "ipython",
    "version": 3
   },
   "file_extension": ".py",
   "mimetype": "text/x-python",
   "name": "python",
   "nbconvert_exporter": "python",
   "pygments_lexer": "ipython3",
   "version": "3.10.17"
  }
 },
 "nbformat": 4,
 "nbformat_minor": 5
}
