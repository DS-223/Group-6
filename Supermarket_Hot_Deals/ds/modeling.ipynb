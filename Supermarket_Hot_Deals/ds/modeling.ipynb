{
 "cells": [
  {
   "cell_type": "code",
   "execution_count": 11,
   "id": "485cd003-1845-4db6-8c6d-56ac4de4f7d2",
   "metadata": {},
   "outputs": [],
   "source": [
    "import sys\n",
    "sys.path.append(\"/app\")"
   ]
  },
  {
   "cell_type": "code",
   "execution_count": 12,
   "id": "8793f34f-a123-4a73-9357-01947a57b703",
   "metadata": {},
   "outputs": [
    {
     "ename": "ModuleNotFoundError",
     "evalue": "No module named 'Database'",
     "output_type": "error",
     "traceback": [
      "\u001b[0;31m---------------------------------------------------------------------------\u001b[0m",
      "\u001b[0;31mModuleNotFoundError\u001b[0m                       Traceback (most recent call last)",
      "Cell \u001b[0;32mIn[12], line 7\u001b[0m\n\u001b[1;32m      3\u001b[0m \u001b[38;5;28;01mimport\u001b[39;00m\u001b[38;5;250m \u001b[39m\u001b[38;5;21;01mmatplotlib\u001b[39;00m\u001b[38;5;21;01m.\u001b[39;00m\u001b[38;5;21;01mpyplot\u001b[39;00m\u001b[38;5;250m \u001b[39m\u001b[38;5;28;01mas\u001b[39;00m\u001b[38;5;250m \u001b[39m\u001b[38;5;21;01mplt\u001b[39;00m\n\u001b[1;32m      6\u001b[0m \u001b[38;5;28;01mfrom\u001b[39;00m\u001b[38;5;250m \u001b[39m\u001b[38;5;21;01msqlalchemy\u001b[39;00m\u001b[38;5;21;01m.\u001b[39;00m\u001b[38;5;21;01morm\u001b[39;00m\u001b[38;5;250m \u001b[39m\u001b[38;5;28;01mimport\u001b[39;00m Session\n\u001b[0;32m----> 7\u001b[0m \u001b[38;5;28;01mfrom\u001b[39;00m\u001b[38;5;250m \u001b[39m\u001b[38;5;21;01mDatabase\u001b[39;00m\u001b[38;5;21;01m.\u001b[39;00m\u001b[38;5;21;01mdatabase\u001b[39;00m\u001b[38;5;250m \u001b[39m\u001b[38;5;28;01mimport\u001b[39;00m SessionLocal\n\u001b[1;32m      8\u001b[0m \u001b[38;5;28;01mfrom\u001b[39;00m\u001b[38;5;250m \u001b[39m\u001b[38;5;21;01mDatabase\u001b[39;00m\u001b[38;5;21;01m.\u001b[39;00m\u001b[38;5;21;01mmodels\u001b[39;00m\u001b[38;5;250m \u001b[39m\u001b[38;5;28;01mimport\u001b[39;00m Bandit\n\u001b[1;32m     12\u001b[0m \u001b[38;5;28;01mclass\u001b[39;00m\u001b[38;5;250m \u001b[39m\u001b[38;5;21;01mThompsonSamplingAdSelectorDB\u001b[39;00m:\n",
      "\u001b[0;31mModuleNotFoundError\u001b[0m: No module named 'Database'"
     ]
    }
   ],
   "source": [
    "import numpy as np\n",
    "import random\n",
    "import matplotlib.pyplot as plt\n",
    "\n",
    "\n",
    "from sqlalchemy.orm import Session\n",
    "from Database.database import SessionLocal\n",
    "from Database.models import Bandit\n",
    "\n",
    "\n",
    "\n",
    "class ThompsonSamplingAdSelectorDB:\n",
    "    def __init__(self, session: Session):\n",
    "        self.session = session\n",
    "\n",
    "    def select_ad(self):\n",
    "        bandits = self.session.query(Bandit).all()\n",
    "        sampled_theta = [\n",
    "            np.random.beta(b.number_of_success + 1, b.number_of_failures + 1)\n",
    "            for b in bandits\n",
    "        ]\n",
    "        selected_index = int(np.argmax(sampled_theta))\n",
    "        return bandits[selected_index], selected_index\n",
    "\n",
    "    def update(self, bandit: Bandit, reward: int):\n",
    "        if reward == 1:\n",
    "            bandit.number_of_success += 1\n",
    "        else:\n",
    "            bandit.number_of_failures += 1\n",
    "        self.session.commit()\n",
    "\n",
    "if __name__ == \"__main__\":\n",
    "    n_rounds = 1000\n",
    "    true_ctrs = [0.05, 0.13, 0.04, 0.20, 0.10]  # Simulated click-through rates\n",
    "\n",
    "    session = SessionLocal()\n",
    "    selector = ThompsonSamplingAdSelectorDB(session)\n",
    "\n",
    "    selections = []\n",
    "    total_reward = 0\n",
    "\n",
    "    for _ in range(n_rounds):\n",
    "        bandit, index = selector.select_ad()\n",
    "        reward = 1 if random.random() < true_ctrs[index] else 0\n",
    "        selector.update(bandit, reward)\n",
    "        selections.append(index)\n",
    "        total_reward += reward\n",
    "\n",
    "    print(f\"Total reward (clicks): {total_reward}\")\n",
    "\n",
    "    bandits = session.query(Bandit).all()\n",
    "    for b in bandits:\n",
    "        print(f\"Ad {b.bandit_id}: Successes = {b.number_of_success}, Failures = {b.number_of_failures}\")\n",
    "\n",
    "    plt.hist(selections, bins=np.arange(len(true_ctrs) + 1) - 0.5, rwidth=0.6)\n",
    "    plt.title(\"Ad Selections Over Time\")\n",
    "    plt.xlabel(\"Ad Index\")\n",
    "    plt.ylabel(\"Number of Times Selected\")\n",
    "    plt.show()\n",
    "\n",
    "    session.close()"
   ]
  }
 ],
 "metadata": {
  "kernelspec": {
   "display_name": "Python 3 (ipykernel)",
   "language": "python",
   "name": "python3"
  },
  "language_info": {
   "codemirror_mode": {
    "name": "ipython",
    "version": 3
   },
   "file_extension": ".py",
   "mimetype": "text/x-python",
   "name": "python",
   "nbconvert_exporter": "python",
   "pygments_lexer": "ipython3",
   "version": "3.10.17"
  }
 },
 "nbformat": 4,
 "nbformat_minor": 5
}
